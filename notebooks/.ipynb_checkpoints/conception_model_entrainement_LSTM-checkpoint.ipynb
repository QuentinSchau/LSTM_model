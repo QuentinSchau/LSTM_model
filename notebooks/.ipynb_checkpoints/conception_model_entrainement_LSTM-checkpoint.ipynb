{
 "cells": [
  {
   "cell_type": "markdown",
   "metadata": {},
   "source": [
    "Documentation pytorch du LSTM : https://pytorch.org/docs/stable/generated/torch.nn.LSTM.html?highlight=lstm#torch.nn.LSTM\n",
    "\n",
    "Ici pour notre modèle nous choisissons une taille de 150 neurones pour la couche caché. Avec une seul couche recurrente (une cellule LSTM). Input_size correspond au nombre de feature qui seront passé dans le vecteur x. Ici nous avons qu'une seul feature à savoir la valeur à la clôture. Ne pas confondre input_size avec sequence length. Le premier correspond au nombre de features (caractéristiques) tandis que le second correspond à la taille du vecteur x qui est passé en entrée. \n"
   ]
  },
  {
   "cell_type": "code",
   "execution_count": null,
   "metadata": {},
   "outputs": [],
   "source": [
    "class LSTM(nn.Module):\n",
    "    def __init__(self, input_size=1, hidden_layer_size=150, output_size=1,num_layers=1):\n",
    "        super().__init__()\n",
    "        self.hidden_layer_size = hidden_layer_size\n",
    "        self.lstm = nn.LSTM(input_size,hidden_layer_size,num_layers,batch_first = True)\n",
    "        # linear layer pour préduire \n",
    "        self.linear = nn.Linear(hidden_layer_size, output_size)\n",
    "\n",
    "    def forward(self, input_batch):\n",
    "        self.hidden_cell = (torch.zeros(1,input_batch.size(0),self.hidden_layer_size,device=input_batch.device),\n",
    "                            torch.zeros(1,input_batch.size(0),self.hidden_layer_size,device=input_batch.device))\n",
    "        lstm_out, self.hidden_cell = self.lstm(input_batch, self.hidden_cell)\n",
    "        predictions = self.linear(lstm_out[:,-1,:])\n",
    "        return predictions"
   ]
  },
  {
   "cell_type": "markdown",
   "metadata": {},
   "source": [
    "On définit maintenant le modèle skorch pour pouvoir faire notre entrainement. \n",
    "\n",
    "On réalise un gridSearch pour déterminer le meilleur nombre de neurones. On réalise les calcules sur la carte graphique. \n",
    "\n",
    "Voici la documentation de Skorch pour plus d'information : https://skorch.readthedocs.io/en/stable/index.html"
   ]
  },
  {
   "cell_type": "code",
   "execution_count": null,
   "metadata": {},
   "outputs": [],
   "source": [
    "net_regr = NeuralNetRegressor(\n",
    "    LSTM,\n",
    "    optimizer=torch.optim.Adam,\n",
    "    max_epochs=1000,\n",
    "    lr=0.001,\n",
    "    callbacks=[\n",
    "        LRScheduler(policy='StepLR', step_size=100, gamma=0.1)\n",
    "    ],\n",
    "    criterion=nn.MSELoss,\n",
    "    device='cuda' \n",
    ")\n",
    "torch.cuda.empty_cache()\n",
    "#paramètre qu'on va déterminer avec le GridSearch\n",
    "param_grid = {'module__hidden_layer_size': [25,50,75,100,125,150,175,200]}\n",
    "\n",
    "grid = GridSearchCV(net_regr,param_grid,cv=3,error_score='raise')\n",
    "   \n",
    "#on réalise l'entrainement\n",
    "grid.fit(train_features,train_labels)\n",
    "\n",
    "# Sauvegarde du modèle \n",
    "saveModel = datetime.today().strftime('%Y%m%d_%H_%M')\n",
    "# cf doc for more information https://skorch.readthedocs.io/en/stable/user/save_load.html\n",
    "grid.best_estimator_.save_params(f_params='../resultat/save_models/'+saveModel+'.pkl')\n",
    "\n",
    "# loading need to initialize net\n",
    "# net_regr.initialize()  # This is important!\n",
    "# net_regr.load_params(f_params='some-file.pkl')\n",
    "\n",
    "# on affiche le meilleur modèle et ses paramètres\n",
    "print(\"paramètre à garder pour définir le modèle lors du chargement\",grid.best_params_)\n",
    "print(\"modèle\",grid.best_estimator_)\n"
   ]
  }
 ],
 "metadata": {
  "celltoolbar": "Format de la Cellule Texte Brut",
  "colab": {
   "collapsed_sections": [],
   "name": "Post_1.ipynb",
   "provenance": []
  },
  "kernelspec": {
   "display_name": "Python 3 (ipykernel)",
   "language": "python",
   "name": "python3"
  },
  "language_info": {
   "codemirror_mode": {
    "name": "ipython",
    "version": 3
   },
   "file_extension": ".py",
   "mimetype": "text/x-python",
   "name": "python",
   "nbconvert_exporter": "python",
   "pygments_lexer": "ipython3",
   "version": "3.8.10"
  }
 },
 "nbformat": 4,
 "nbformat_minor": 1
}
